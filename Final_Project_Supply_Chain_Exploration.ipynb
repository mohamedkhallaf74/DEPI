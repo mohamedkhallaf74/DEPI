{
 "cells": [
  {
   "cell_type": "code",
   "execution_count": 2,
   "id": "cf460b91-3801-46a0-aedd-5e0d98ebbab7",
   "metadata": {},
   "outputs": [
    {
     "name": "stdout",
     "output_type": "stream",
     "text": [
      "Requirement already satisfied: numpy in c:\\users\\digital\\anaconda3\\lib\\site-packages (1.26.4)\n",
      "Note: you may need to restart the kernel to use updated packages.\n"
     ]
    }
   ],
   "source": [
    "pip install numpy"
   ]
  },
  {
   "cell_type": "code",
   "execution_count": 5,
   "id": "dcf14508-8b30-4a78-968e-b1b30d7be123",
   "metadata": {},
   "outputs": [
    {
     "name": "stdout",
     "output_type": "stream",
     "text": [
      "Requirement already satisfied: Pandas in c:\\users\\digital\\anaconda3\\lib\\site-packages (2.2.2)\n",
      "Requirement already satisfied: numpy>=1.26.0 in c:\\users\\digital\\anaconda3\\lib\\site-packages (from Pandas) (1.26.4)\n",
      "Requirement already satisfied: python-dateutil>=2.8.2 in c:\\users\\digital\\anaconda3\\lib\\site-packages (from Pandas) (2.9.0.post0)\n",
      "Requirement already satisfied: pytz>=2020.1 in c:\\users\\digital\\anaconda3\\lib\\site-packages (from Pandas) (2024.1)\n",
      "Requirement already satisfied: tzdata>=2022.7 in c:\\users\\digital\\anaconda3\\lib\\site-packages (from Pandas) (2023.3)\n",
      "Requirement already satisfied: six>=1.5 in c:\\users\\digital\\anaconda3\\lib\\site-packages (from python-dateutil>=2.8.2->Pandas) (1.16.0)\n",
      "Note: you may need to restart the kernel to use updated packages.\n"
     ]
    }
   ],
   "source": [
    "pip install Pandas"
   ]
  },
  {
   "cell_type": "code",
   "execution_count": 3,
   "id": "dde0fc23-3a88-497c-917c-09f269a6378c",
   "metadata": {},
   "outputs": [],
   "source": [
    "import numpy as np\n",
    "import pandas as pd"
   ]
  },
  {
   "cell_type": "code",
   "execution_count": 5,
   "id": "b1a24913-0d03-4ce0-9535-d5a41482f2d3",
   "metadata": {},
   "outputs": [],
   "source": [
    "df_SC=pd.read_excel(r\"D:\\ROWAD DB\\Final Project\\north-america-retail-supply-chain-sales-analysis .xlsx\")"
   ]
  },
  {
   "cell_type": "code",
   "execution_count": 6,
   "id": "12ac9894-a22e-498a-9770-5ab09a10c17b",
   "metadata": {},
   "outputs": [
    {
     "data": {
      "text/html": [
       "<div>\n",
       "<style scoped>\n",
       "    .dataframe tbody tr th:only-of-type {\n",
       "        vertical-align: middle;\n",
       "    }\n",
       "\n",
       "    .dataframe tbody tr th {\n",
       "        vertical-align: top;\n",
       "    }\n",
       "\n",
       "    .dataframe thead th {\n",
       "        text-align: right;\n",
       "    }\n",
       "</style>\n",
       "<table border=\"1\" class=\"dataframe\">\n",
       "  <thead>\n",
       "    <tr style=\"text-align: right;\">\n",
       "      <th></th>\n",
       "      <th>Row ID</th>\n",
       "      <th>Order ID</th>\n",
       "      <th>Order Date</th>\n",
       "      <th>Ship Date</th>\n",
       "      <th>Ship Mode</th>\n",
       "      <th>Customer ID</th>\n",
       "      <th>Customer Name</th>\n",
       "      <th>Segment</th>\n",
       "      <th>Country</th>\n",
       "      <th>City</th>\n",
       "      <th>...</th>\n",
       "      <th>Retail Sales People</th>\n",
       "      <th>Product ID</th>\n",
       "      <th>Category</th>\n",
       "      <th>Sub-Category</th>\n",
       "      <th>Product Name</th>\n",
       "      <th>Returned</th>\n",
       "      <th>Sales</th>\n",
       "      <th>Quantity</th>\n",
       "      <th>Discount</th>\n",
       "      <th>Profit</th>\n",
       "    </tr>\n",
       "  </thead>\n",
       "  <tbody>\n",
       "    <tr>\n",
       "      <th>0</th>\n",
       "      <td>1</td>\n",
       "      <td>CA-2016-152156</td>\n",
       "      <td>2016-08-11</td>\n",
       "      <td>2016-11-11</td>\n",
       "      <td>Second Class</td>\n",
       "      <td>CG-12520</td>\n",
       "      <td>Claire Gute</td>\n",
       "      <td>Consumer</td>\n",
       "      <td>United States</td>\n",
       "      <td>Henderson</td>\n",
       "      <td>...</td>\n",
       "      <td>Cassandra Brandow</td>\n",
       "      <td>FUR-BO-10001798</td>\n",
       "      <td>Furniture</td>\n",
       "      <td>Bookcases</td>\n",
       "      <td>Bush Somerset Collection Bookcase</td>\n",
       "      <td>Not</td>\n",
       "      <td>261.9600</td>\n",
       "      <td>2</td>\n",
       "      <td>0.00</td>\n",
       "      <td>41.9136</td>\n",
       "    </tr>\n",
       "    <tr>\n",
       "      <th>1</th>\n",
       "      <td>2</td>\n",
       "      <td>CA-2016-152156</td>\n",
       "      <td>2016-08-11</td>\n",
       "      <td>2016-11-11</td>\n",
       "      <td>Second Class</td>\n",
       "      <td>CG-12520</td>\n",
       "      <td>Claire Gute</td>\n",
       "      <td>Consumer</td>\n",
       "      <td>United States</td>\n",
       "      <td>Henderson</td>\n",
       "      <td>...</td>\n",
       "      <td>Cassandra Brandow</td>\n",
       "      <td>FUR-CH-10000454</td>\n",
       "      <td>Furniture</td>\n",
       "      <td>Chairs</td>\n",
       "      <td>Hon Deluxe Fabric Upholstered Stacking Chairs,...</td>\n",
       "      <td>Not</td>\n",
       "      <td>731.9400</td>\n",
       "      <td>3</td>\n",
       "      <td>0.00</td>\n",
       "      <td>219.5820</td>\n",
       "    </tr>\n",
       "    <tr>\n",
       "      <th>2</th>\n",
       "      <td>3</td>\n",
       "      <td>CA-2016-138688</td>\n",
       "      <td>2016-12-06</td>\n",
       "      <td>2016-12-06</td>\n",
       "      <td>Second Class</td>\n",
       "      <td>DV-13045</td>\n",
       "      <td>Darrin Van Huff</td>\n",
       "      <td>Corporate</td>\n",
       "      <td>United States</td>\n",
       "      <td>Los Angeles</td>\n",
       "      <td>...</td>\n",
       "      <td>Anna Andreadi</td>\n",
       "      <td>OFF-LA-10000240</td>\n",
       "      <td>Office Supplies</td>\n",
       "      <td>Labels</td>\n",
       "      <td>Self-Adhesive Address Labels for Typewriters b...</td>\n",
       "      <td>Not</td>\n",
       "      <td>14.6200</td>\n",
       "      <td>2</td>\n",
       "      <td>0.00</td>\n",
       "      <td>6.8714</td>\n",
       "    </tr>\n",
       "    <tr>\n",
       "      <th>3</th>\n",
       "      <td>4</td>\n",
       "      <td>US-2015-108966</td>\n",
       "      <td>2015-11-10</td>\n",
       "      <td>2015-11-10</td>\n",
       "      <td>Standard Class</td>\n",
       "      <td>SO-20335</td>\n",
       "      <td>Sean O'Donnell</td>\n",
       "      <td>Consumer</td>\n",
       "      <td>United States</td>\n",
       "      <td>Fort Lauderdale</td>\n",
       "      <td>...</td>\n",
       "      <td>Cassandra Brandow</td>\n",
       "      <td>FUR-TA-10000577</td>\n",
       "      <td>Furniture</td>\n",
       "      <td>Tables</td>\n",
       "      <td>Bretford CR4500 Series Slim Rectangular Table</td>\n",
       "      <td>Not</td>\n",
       "      <td>957.5775</td>\n",
       "      <td>5</td>\n",
       "      <td>0.45</td>\n",
       "      <td>-383.0310</td>\n",
       "    </tr>\n",
       "    <tr>\n",
       "      <th>4</th>\n",
       "      <td>5</td>\n",
       "      <td>US-2015-108966</td>\n",
       "      <td>2015-11-10</td>\n",
       "      <td>2015-11-10</td>\n",
       "      <td>Standard Class</td>\n",
       "      <td>SO-20335</td>\n",
       "      <td>Sean O'Donnell</td>\n",
       "      <td>Consumer</td>\n",
       "      <td>United States</td>\n",
       "      <td>Fort Lauderdale</td>\n",
       "      <td>...</td>\n",
       "      <td>Cassandra Brandow</td>\n",
       "      <td>OFF-ST-10000760</td>\n",
       "      <td>Office Supplies</td>\n",
       "      <td>Storage</td>\n",
       "      <td>Eldon Fold 'N Roll Cart System</td>\n",
       "      <td>Not</td>\n",
       "      <td>22.3680</td>\n",
       "      <td>2</td>\n",
       "      <td>0.20</td>\n",
       "      <td>2.5164</td>\n",
       "    </tr>\n",
       "  </tbody>\n",
       "</table>\n",
       "<p>5 rows × 23 columns</p>\n",
       "</div>"
      ],
      "text/plain": [
       "   Row ID        Order ID Order Date  Ship Date       Ship Mode Customer ID  \\\n",
       "0       1  CA-2016-152156 2016-08-11 2016-11-11    Second Class    CG-12520   \n",
       "1       2  CA-2016-152156 2016-08-11 2016-11-11    Second Class    CG-12520   \n",
       "2       3  CA-2016-138688 2016-12-06 2016-12-06    Second Class    DV-13045   \n",
       "3       4  US-2015-108966 2015-11-10 2015-11-10  Standard Class    SO-20335   \n",
       "4       5  US-2015-108966 2015-11-10 2015-11-10  Standard Class    SO-20335   \n",
       "\n",
       "     Customer Name    Segment        Country             City  ...  \\\n",
       "0      Claire Gute   Consumer  United States        Henderson  ...   \n",
       "1      Claire Gute   Consumer  United States        Henderson  ...   \n",
       "2  Darrin Van Huff  Corporate  United States      Los Angeles  ...   \n",
       "3   Sean O'Donnell   Consumer  United States  Fort Lauderdale  ...   \n",
       "4   Sean O'Donnell   Consumer  United States  Fort Lauderdale  ...   \n",
       "\n",
       "  Retail Sales People       Product ID         Category Sub-Category  \\\n",
       "0   Cassandra Brandow  FUR-BO-10001798        Furniture    Bookcases   \n",
       "1   Cassandra Brandow  FUR-CH-10000454        Furniture       Chairs   \n",
       "2       Anna Andreadi  OFF-LA-10000240  Office Supplies       Labels   \n",
       "3   Cassandra Brandow  FUR-TA-10000577        Furniture       Tables   \n",
       "4   Cassandra Brandow  OFF-ST-10000760  Office Supplies      Storage   \n",
       "\n",
       "                                        Product Name Returned     Sales  \\\n",
       "0                  Bush Somerset Collection Bookcase      Not  261.9600   \n",
       "1  Hon Deluxe Fabric Upholstered Stacking Chairs,...      Not  731.9400   \n",
       "2  Self-Adhesive Address Labels for Typewriters b...      Not   14.6200   \n",
       "3      Bretford CR4500 Series Slim Rectangular Table      Not  957.5775   \n",
       "4                     Eldon Fold 'N Roll Cart System      Not   22.3680   \n",
       "\n",
       "  Quantity Discount    Profit  \n",
       "0        2     0.00   41.9136  \n",
       "1        3     0.00  219.5820  \n",
       "2        2     0.00    6.8714  \n",
       "3        5     0.45 -383.0310  \n",
       "4        2     0.20    2.5164  \n",
       "\n",
       "[5 rows x 23 columns]"
      ]
     },
     "execution_count": 6,
     "metadata": {},
     "output_type": "execute_result"
    }
   ],
   "source": [
    "df_SC.head()"
   ]
  },
  {
   "cell_type": "code",
   "execution_count": 9,
   "id": "d615947c-5ef6-4e2c-a650-259d5ac70f96",
   "metadata": {},
   "outputs": [
    {
     "data": {
      "text/plain": [
       "(9994, 23)"
      ]
     },
     "execution_count": 9,
     "metadata": {},
     "output_type": "execute_result"
    }
   ],
   "source": [
    "df_SC.shape"
   ]
  },
  {
   "cell_type": "code",
   "execution_count": 11,
   "id": "21f90c3f-fdbc-49c4-bfb8-0164f43dd50b",
   "metadata": {},
   "outputs": [
    {
     "data": {
      "text/plain": [
       "0"
      ]
     },
     "execution_count": 11,
     "metadata": {},
     "output_type": "execute_result"
    }
   ],
   "source": [
    "df_SC.duplicated().sum()"
   ]
  },
  {
   "cell_type": "code",
   "execution_count": 13,
   "id": "daea34c5-dd06-4302-96a5-4ddad70e9a61",
   "metadata": {},
   "outputs": [
    {
     "data": {
      "text/plain": [
       "Row ID                 0\n",
       "Order ID               0\n",
       "Order Date             0\n",
       "Ship Date              0\n",
       "Ship Mode              0\n",
       "Customer ID            0\n",
       "Customer Name          0\n",
       "Segment                0\n",
       "Country                0\n",
       "City                   0\n",
       "State                  0\n",
       "Postal Code            0\n",
       "Region                 0\n",
       "Retail Sales People    0\n",
       "Product ID             0\n",
       "Category               0\n",
       "Sub-Category           0\n",
       "Product Name           0\n",
       "Returned               0\n",
       "Sales                  0\n",
       "Quantity               0\n",
       "Discount               0\n",
       "Profit                 0\n",
       "dtype: int64"
      ]
     },
     "execution_count": 13,
     "metadata": {},
     "output_type": "execute_result"
    }
   ],
   "source": [
    "df_SC.isnull().sum()"
   ]
  },
  {
   "cell_type": "code",
   "execution_count": 15,
   "id": "fdd32d3a-9b49-4fa4-adb8-537ca02c0900",
   "metadata": {},
   "outputs": [
    {
     "data": {
      "text/plain": [
       "Row ID                 9994\n",
       "Order ID               5009\n",
       "Order Date             1237\n",
       "Ship Date              1215\n",
       "Ship Mode                 4\n",
       "Customer ID             793\n",
       "Customer Name           793\n",
       "Segment                   3\n",
       "Country                   1\n",
       "City                    531\n",
       "State                    49\n",
       "Postal Code             631\n",
       "Region                    4\n",
       "Retail Sales People       4\n",
       "Product ID             1862\n",
       "Category                  3\n",
       "Sub-Category             17\n",
       "Product Name           1850\n",
       "Returned                  2\n",
       "Sales                  5825\n",
       "Quantity                 14\n",
       "Discount                 12\n",
       "Profit                 7287\n",
       "dtype: int64"
      ]
     },
     "execution_count": 15,
     "metadata": {},
     "output_type": "execute_result"
    }
   ],
   "source": [
    "df_SC.nunique()"
   ]
  },
  {
   "cell_type": "code",
   "execution_count": 17,
   "id": "6f42043f-119a-4702-9d28-42d1dc6f4ab0",
   "metadata": {},
   "outputs": [
    {
     "data": {
      "text/plain": [
       "Row ID                          int64\n",
       "Order ID                       object\n",
       "Order Date             datetime64[ns]\n",
       "Ship Date              datetime64[ns]\n",
       "Ship Mode                      object\n",
       "Customer ID                    object\n",
       "Customer Name                  object\n",
       "Segment                        object\n",
       "Country                        object\n",
       "City                           object\n",
       "State                          object\n",
       "Postal Code                     int64\n",
       "Region                         object\n",
       "Retail Sales People            object\n",
       "Product ID                     object\n",
       "Category                       object\n",
       "Sub-Category                   object\n",
       "Product Name                   object\n",
       "Returned                       object\n",
       "Sales                         float64\n",
       "Quantity                        int64\n",
       "Discount                      float64\n",
       "Profit                        float64\n",
       "dtype: object"
      ]
     },
     "execution_count": 17,
     "metadata": {},
     "output_type": "execute_result"
    }
   ],
   "source": [
    "df_SC.dtypes"
   ]
  }
 ],
 "metadata": {
  "kernelspec": {
   "display_name": "Python [conda env:base] *",
   "language": "python",
   "name": "conda-base-py"
  },
  "language_info": {
   "codemirror_mode": {
    "name": "ipython",
    "version": 3
   },
   "file_extension": ".py",
   "mimetype": "text/x-python",
   "name": "python",
   "nbconvert_exporter": "python",
   "pygments_lexer": "ipython3",
   "version": "3.12.7"
  }
 },
 "nbformat": 4,
 "nbformat_minor": 5
}
