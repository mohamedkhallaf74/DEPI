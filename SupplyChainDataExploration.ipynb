{
 "cells": [
  {
   "cell_type": "markdown",
   "id": "e3ecc1a1-3044-4195-a9a2-63eec76b67ee",
   "metadata": {},
   "source": [
    "# Supply_Chain_Data_Exploration\n",
    "## Categories:\n",
    "\n",
    "1. Calling Libraries  \n",
    "2. Reading Datasets From The Excel Sheet  \n",
    "3. Data Exploration:  \n",
    "   3.1. Defect_Type (Dataset) - 1st Sheet  \n",
    "   3.2. Defect (Dataset) - 2nd Sheet  \n",
    "   3.3. Material Type (Dataset) - 3rd Sheet  \n",
    "   3.4. Defect Report (Dataset) - 4th Sheet  \n",
    "   3.5. Plant (Dataset) - 5th Sheet  \n",
    "   3.6. Category (Dataset) - 6th Sheet  \n"
   ]
  },
  {
   "cell_type": "markdown",
   "id": "e6789963-60b9-4c25-93cf-dd163ebf6707",
   "metadata": {},
   "source": [
    "## 1.Calling Liberaries <a id='A'></a>"
   ]
  },
  {
   "cell_type": "code",
   "execution_count": 1,
   "id": "97e28984-d51d-4972-b77d-cbcc2769269a",
   "metadata": {},
   "outputs": [],
   "source": [
    "import numpy as np\n",
    "import pandas as pd"
   ]
  },
  {
   "cell_type": "markdown",
   "id": "c7d9e5e8-9ed3-4642-b8db-1936c22a6721",
   "metadata": {},
   "source": [
    "# 2.Reading Datasets From The Excel Sheet<a id='Z'></a>"
   ]
  },
  {
   "cell_type": "code",
   "execution_count": 18,
   "id": "9a9bec08-5a81-4b0a-b170-beeb48a4585b",
   "metadata": {},
   "outputs": [],
   "source": [
    "df_Defect_Type=pd.read_excel(r\"C:\\Users\\Digital\\Downloads\\Supplier Quality Analysis.xlsx\",sheet_name=\"Defect Type\")"
   ]
  },
  {
   "cell_type": "code",
   "execution_count": 20,
   "id": "202685e9-77a1-4cfc-b3aa-579dd158cacc",
   "metadata": {},
   "outputs": [],
   "source": [
    "df_Defect=pd.read_excel(r\"C:\\Users\\Digital\\Downloads\\Supplier Quality Analysis.xlsx\",sheet_name=\"Defect\")"
   ]
  },
  {
   "cell_type": "code",
   "execution_count": 22,
   "id": "43e703b9-dbc3-45db-8b58-ae6fe6ffa694",
   "metadata": {},
   "outputs": [],
   "source": [
    "df_Material_Type=pd.read_excel(r\"C:\\Users\\Digital\\Downloads\\Supplier Quality Analysis.xlsx\",sheet_name=\"Material Type\")"
   ]
  },
  {
   "cell_type": "code",
   "execution_count": 24,
   "id": "f1dc9882-4574-4382-b907-9d610d749dd9",
   "metadata": {},
   "outputs": [],
   "source": [
    "df_Defect_Report=pd.read_excel(r\"C:\\Users\\Digital\\Downloads\\Supplier Quality Analysis.xlsx\",sheet_name=\"Defect Report\")"
   ]
  },
  {
   "cell_type": "code",
   "execution_count": 25,
   "id": "5cd1d6d2-b20d-4407-bc22-6e3b839c1077",
   "metadata": {},
   "outputs": [],
   "source": [
    "df_Plant=pd.read_excel(r\"C:\\Users\\Digital\\Downloads\\Supplier Quality Analysis.xlsx\",sheet_name=\"Plant\")"
   ]
  },
  {
   "cell_type": "code",
   "execution_count": 26,
   "id": "79d1bca4-0667-46ac-9e73-ff0972c68730",
   "metadata": {},
   "outputs": [],
   "source": [
    "df_Category=pd.read_excel(r\"C:\\Users\\Digital\\Downloads\\Supplier Quality Analysis.xlsx\",sheet_name=\"Category\")"
   ]
  },
  {
   "cell_type": "code",
   "execution_count": 27,
   "id": "e05764c9-cc1c-4a01-aa0b-82e804f8df80",
   "metadata": {},
   "outputs": [],
   "source": [
    "df_Vendor=pd.read_excel(r\"C:\\Users\\Digital\\Downloads\\Supplier Quality Analysis.xlsx\",sheet_name=\"Vendor\")"
   ]
  },
  {
   "cell_type": "markdown",
   "id": "8a6f7ca2-3526-40ac-b5cb-3766a4bc6190",
   "metadata": {},
   "source": [
    "# 3.Data Exploration<a id='B'></a>"
   ]
  },
  {
   "cell_type": "markdown",
   "id": "b3cb7bfb-3a7f-4ded-a38f-2cd38fae8133",
   "metadata": {},
   "source": [
    "##### 3.1.Defect_Type(Dataset) 1st Sheet <a id='C'></a>"
   ]
  },
  {
   "cell_type": "code",
   "execution_count": 33,
   "id": "9585a4f3-5ad6-443a-aa19-896fd9211adb",
   "metadata": {},
   "outputs": [
    {
     "data": {
      "text/html": [
       "<div>\n",
       "<style scoped>\n",
       "    .dataframe tbody tr th:only-of-type {\n",
       "        vertical-align: middle;\n",
       "    }\n",
       "\n",
       "    .dataframe tbody tr th {\n",
       "        vertical-align: top;\n",
       "    }\n",
       "\n",
       "    .dataframe thead th {\n",
       "        text-align: right;\n",
       "    }\n",
       "</style>\n",
       "<table border=\"1\" class=\"dataframe\">\n",
       "  <thead>\n",
       "    <tr style=\"text-align: right;\">\n",
       "      <th></th>\n",
       "      <th>Defect Type</th>\n",
       "      <th>Defect Type ID</th>\n",
       "      <th>Sort</th>\n",
       "    </tr>\n",
       "  </thead>\n",
       "  <tbody>\n",
       "    <tr>\n",
       "      <th>0</th>\n",
       "      <td>No Impact</td>\n",
       "      <td>1</td>\n",
       "      <td>3</td>\n",
       "    </tr>\n",
       "    <tr>\n",
       "      <th>1</th>\n",
       "      <td>Impact</td>\n",
       "      <td>3</td>\n",
       "      <td>2</td>\n",
       "    </tr>\n",
       "    <tr>\n",
       "      <th>2</th>\n",
       "      <td>Rejected</td>\n",
       "      <td>4</td>\n",
       "      <td>1</td>\n",
       "    </tr>\n",
       "  </tbody>\n",
       "</table>\n",
       "</div>"
      ],
      "text/plain": [
       "  Defect Type  Defect Type ID  Sort\n",
       "0   No Impact               1     3\n",
       "1      Impact               3     2\n",
       "2    Rejected               4     1"
      ]
     },
     "execution_count": 33,
     "metadata": {},
     "output_type": "execute_result"
    }
   ],
   "source": [
    "df_Defect_Type.head()"
   ]
  },
  {
   "cell_type": "code",
   "execution_count": 35,
   "id": "19a5f04f-5d7e-45d2-b39a-ca2a7296b8bd",
   "metadata": {},
   "outputs": [
    {
     "data": {
      "text/plain": [
       "(3, 3)"
      ]
     },
     "execution_count": 35,
     "metadata": {},
     "output_type": "execute_result"
    }
   ],
   "source": [
    "df_Defect_Type.shape"
   ]
  },
  {
   "cell_type": "code",
   "execution_count": 37,
   "id": "074db129-17f5-45e9-84d3-8a0c5a9c254c",
   "metadata": {},
   "outputs": [
    {
     "data": {
      "text/plain": [
       "0"
      ]
     },
     "execution_count": 37,
     "metadata": {},
     "output_type": "execute_result"
    }
   ],
   "source": [
    "df_Defect_Type.duplicated().sum()"
   ]
  },
  {
   "cell_type": "code",
   "execution_count": 39,
   "id": "88cc5d94-f758-4ccb-9e42-56e5074e7c1a",
   "metadata": {},
   "outputs": [
    {
     "data": {
      "text/plain": [
       "Defect Type       0\n",
       "Defect Type ID    0\n",
       "Sort              0\n",
       "dtype: int64"
      ]
     },
     "execution_count": 39,
     "metadata": {},
     "output_type": "execute_result"
    }
   ],
   "source": [
    "df_Defect_Type.isnull().sum()"
   ]
  },
  {
   "cell_type": "code",
   "execution_count": 41,
   "id": "ab6f117f-19cb-4772-8986-3d94295f20f5",
   "metadata": {},
   "outputs": [
    {
     "data": {
      "text/plain": [
       "Defect Type       3\n",
       "Defect Type ID    3\n",
       "Sort              3\n",
       "dtype: int64"
      ]
     },
     "execution_count": 41,
     "metadata": {},
     "output_type": "execute_result"
    }
   ],
   "source": [
    "df_Defect_Type.nunique()"
   ]
  },
  {
   "cell_type": "code",
   "execution_count": 43,
   "id": "55e2d41c-d7f1-4fad-9064-cb53dbce821a",
   "metadata": {},
   "outputs": [
    {
     "data": {
      "text/plain": [
       "Defect Type       object\n",
       "Defect Type ID     int64\n",
       "Sort               int64\n",
       "dtype: object"
      ]
     },
     "execution_count": 43,
     "metadata": {},
     "output_type": "execute_result"
    }
   ],
   "source": [
    "df_Defect_Type.dtypes"
   ]
  },
  {
   "cell_type": "markdown",
   "id": "c87f2760-9b22-465c-80c8-d7ca2044cb86",
   "metadata": {},
   "source": [
    "##### 3.2.Defect(Dataset) 2nd Sheet<a id='D'></a>"
   ]
  },
  {
   "cell_type": "code",
   "execution_count": 47,
   "id": "a4cd2f6a-ad4e-4de2-8d77-ec3815d8d0d0",
   "metadata": {},
   "outputs": [
    {
     "data": {
      "text/html": [
       "<div>\n",
       "<style scoped>\n",
       "    .dataframe tbody tr th:only-of-type {\n",
       "        vertical-align: middle;\n",
       "    }\n",
       "\n",
       "    .dataframe tbody tr th {\n",
       "        vertical-align: top;\n",
       "    }\n",
       "\n",
       "    .dataframe thead th {\n",
       "        text-align: right;\n",
       "    }\n",
       "</style>\n",
       "<table border=\"1\" class=\"dataframe\">\n",
       "  <thead>\n",
       "    <tr style=\"text-align: right;\">\n",
       "      <th></th>\n",
       "      <th>Defect</th>\n",
       "      <th>Defect ID</th>\n",
       "    </tr>\n",
       "  </thead>\n",
       "  <tbody>\n",
       "    <tr>\n",
       "      <th>0</th>\n",
       "      <td>Dimensions - Bad Finishing</td>\n",
       "      <td>1</td>\n",
       "    </tr>\n",
       "    <tr>\n",
       "      <th>1</th>\n",
       "      <td>Bad Seams</td>\n",
       "      <td>2</td>\n",
       "    </tr>\n",
       "    <tr>\n",
       "      <th>2</th>\n",
       "      <td>Bad Seams</td>\n",
       "      <td>3</td>\n",
       "    </tr>\n",
       "    <tr>\n",
       "      <th>3</th>\n",
       "      <td>Bad Seams</td>\n",
       "      <td>4</td>\n",
       "    </tr>\n",
       "    <tr>\n",
       "      <th>4</th>\n",
       "      <td>Gap Variation</td>\n",
       "      <td>5</td>\n",
       "    </tr>\n",
       "  </tbody>\n",
       "</table>\n",
       "</div>"
      ],
      "text/plain": [
       "                       Defect  Defect ID\n",
       "0  Dimensions - Bad Finishing          1\n",
       "1                   Bad Seams          2\n",
       "2                   Bad Seams          3\n",
       "3                   Bad Seams          4\n",
       "4               Gap Variation          5"
      ]
     },
     "execution_count": 47,
     "metadata": {},
     "output_type": "execute_result"
    }
   ],
   "source": [
    "df_Defect.head()"
   ]
  },
  {
   "cell_type": "code",
   "execution_count": 49,
   "id": "7ba81cdb-b8c9-46a5-8b49-1202c32b7b37",
   "metadata": {},
   "outputs": [
    {
     "data": {
      "text/plain": [
       "(305, 2)"
      ]
     },
     "execution_count": 49,
     "metadata": {},
     "output_type": "execute_result"
    }
   ],
   "source": [
    "df_Defect.shape"
   ]
  },
  {
   "cell_type": "code",
   "execution_count": 51,
   "id": "cea138fa-2029-462a-bd7d-afb798e73af5",
   "metadata": {},
   "outputs": [
    {
     "data": {
      "text/plain": [
       "0"
      ]
     },
     "execution_count": 51,
     "metadata": {},
     "output_type": "execute_result"
    }
   ],
   "source": [
    "df_Defect.duplicated().sum()"
   ]
  },
  {
   "cell_type": "code",
   "execution_count": 53,
   "id": "e697c4af-2067-4e7b-b011-b0c4513d56c3",
   "metadata": {},
   "outputs": [
    {
     "data": {
      "text/plain": [
       "Defect       0\n",
       "Defect ID    0\n",
       "dtype: int64"
      ]
     },
     "execution_count": 53,
     "metadata": {},
     "output_type": "execute_result"
    }
   ],
   "source": [
    "df_Defect.isnull().sum()"
   ]
  },
  {
   "cell_type": "code",
   "execution_count": 55,
   "id": "53e65623-4f58-4c12-9cf9-17a58d728daa",
   "metadata": {},
   "outputs": [
    {
     "data": {
      "text/plain": [
       "Defect       272\n",
       "Defect ID    305\n",
       "dtype: int64"
      ]
     },
     "execution_count": 55,
     "metadata": {},
     "output_type": "execute_result"
    }
   ],
   "source": [
    "df_Defect.nunique()"
   ]
  },
  {
   "cell_type": "code",
   "execution_count": 57,
   "id": "d0e999b3-4d63-43ee-abe7-789345a1771e",
   "metadata": {},
   "outputs": [
    {
     "data": {
      "text/plain": [
       "Defect       object\n",
       "Defect ID     int64\n",
       "dtype: object"
      ]
     },
     "execution_count": 57,
     "metadata": {},
     "output_type": "execute_result"
    }
   ],
   "source": [
    "df_Defect.dtypes"
   ]
  },
  {
   "cell_type": "markdown",
   "id": "632f06e4-63d1-41f1-a4cd-704fbe3a3301",
   "metadata": {},
   "source": [
    "##### 3.3.Material Type(Dataset) 3rd Sheet <a id=\"E\"></a>"
   ]
  },
  {
   "cell_type": "code",
   "execution_count": 61,
   "id": "d26870ca-6156-48b0-8274-45f830f3009c",
   "metadata": {},
   "outputs": [
    {
     "data": {
      "text/html": [
       "<div>\n",
       "<style scoped>\n",
       "    .dataframe tbody tr th:only-of-type {\n",
       "        vertical-align: middle;\n",
       "    }\n",
       "\n",
       "    .dataframe tbody tr th {\n",
       "        vertical-align: top;\n",
       "    }\n",
       "\n",
       "    .dataframe thead th {\n",
       "        text-align: right;\n",
       "    }\n",
       "</style>\n",
       "<table border=\"1\" class=\"dataframe\">\n",
       "  <thead>\n",
       "    <tr style=\"text-align: right;\">\n",
       "      <th></th>\n",
       "      <th>Material Type</th>\n",
       "      <th>Material Type ID</th>\n",
       "    </tr>\n",
       "  </thead>\n",
       "  <tbody>\n",
       "    <tr>\n",
       "      <th>0</th>\n",
       "      <td>Corrugate</td>\n",
       "      <td>1</td>\n",
       "    </tr>\n",
       "    <tr>\n",
       "      <th>1</th>\n",
       "      <td>Film</td>\n",
       "      <td>2</td>\n",
       "    </tr>\n",
       "    <tr>\n",
       "      <th>2</th>\n",
       "      <td>Carton</td>\n",
       "      <td>3</td>\n",
       "    </tr>\n",
       "    <tr>\n",
       "      <th>3</th>\n",
       "      <td>Batteries</td>\n",
       "      <td>4</td>\n",
       "    </tr>\n",
       "    <tr>\n",
       "      <th>4</th>\n",
       "      <td>Composites</td>\n",
       "      <td>5</td>\n",
       "    </tr>\n",
       "  </tbody>\n",
       "</table>\n",
       "</div>"
      ],
      "text/plain": [
       "  Material Type  Material Type ID\n",
       "0     Corrugate                 1\n",
       "1          Film                 2\n",
       "2        Carton                 3\n",
       "3     Batteries                 4\n",
       "4    Composites                 5"
      ]
     },
     "execution_count": 61,
     "metadata": {},
     "output_type": "execute_result"
    }
   ],
   "source": [
    "df_Material_Type.head()"
   ]
  },
  {
   "cell_type": "code",
   "execution_count": 63,
   "id": "777447d9-c3cb-4cc6-9d78-d80c3600f08f",
   "metadata": {},
   "outputs": [
    {
     "data": {
      "text/plain": [
       "(22, 2)"
      ]
     },
     "execution_count": 63,
     "metadata": {},
     "output_type": "execute_result"
    }
   ],
   "source": [
    "df_Material_Type.shape"
   ]
  },
  {
   "cell_type": "code",
   "execution_count": 65,
   "id": "676c4ae7-d2e2-4f7a-bb4a-a4b0a40212a2",
   "metadata": {},
   "outputs": [
    {
     "data": {
      "text/plain": [
       "0"
      ]
     },
     "execution_count": 65,
     "metadata": {},
     "output_type": "execute_result"
    }
   ],
   "source": [
    "df_Material_Type.duplicated().sum()"
   ]
  },
  {
   "cell_type": "code",
   "execution_count": 67,
   "id": "68b276fd-4f9b-4112-90fc-a4df0429f4fc",
   "metadata": {},
   "outputs": [
    {
     "data": {
      "text/plain": [
       "Material Type       0\n",
       "Material Type ID    0\n",
       "dtype: int64"
      ]
     },
     "execution_count": 67,
     "metadata": {},
     "output_type": "execute_result"
    }
   ],
   "source": [
    "df_Material_Type.isnull().sum()"
   ]
  },
  {
   "cell_type": "code",
   "execution_count": 69,
   "id": "cd6649e9-49eb-4848-8410-7915c6b0aa6b",
   "metadata": {},
   "outputs": [
    {
     "data": {
      "text/plain": [
       "Material Type       22\n",
       "Material Type ID    22\n",
       "dtype: int64"
      ]
     },
     "execution_count": 69,
     "metadata": {},
     "output_type": "execute_result"
    }
   ],
   "source": [
    "df_Material_Type.nunique()"
   ]
  },
  {
   "cell_type": "code",
   "execution_count": 71,
   "id": "b22bbee7-3732-4a36-a593-16f4db7648a0",
   "metadata": {},
   "outputs": [
    {
     "data": {
      "text/plain": [
       "Material Type       object\n",
       "Material Type ID     int64\n",
       "dtype: object"
      ]
     },
     "execution_count": 71,
     "metadata": {},
     "output_type": "execute_result"
    }
   ],
   "source": [
    "df_Material_Type.dtypes"
   ]
  },
  {
   "cell_type": "markdown",
   "id": "d5ef7b5d-526d-46ae-929b-2caa5003e1f5",
   "metadata": {},
   "source": [
    "##### 3.4.Defect Report(Dataset) 4th Sheet<a id='F'></a>"
   ]
  },
  {
   "cell_type": "code",
   "execution_count": 74,
   "id": "d6098082-ee6c-4a10-ad9e-4122f6c2740c",
   "metadata": {},
   "outputs": [
    {
     "data": {
      "text/html": [
       "<div>\n",
       "<style scoped>\n",
       "    .dataframe tbody tr th:only-of-type {\n",
       "        vertical-align: middle;\n",
       "    }\n",
       "\n",
       "    .dataframe tbody tr th {\n",
       "        vertical-align: top;\n",
       "    }\n",
       "\n",
       "    .dataframe thead th {\n",
       "        text-align: right;\n",
       "    }\n",
       "</style>\n",
       "<table border=\"1\" class=\"dataframe\">\n",
       "  <thead>\n",
       "    <tr style=\"text-align: right;\">\n",
       "      <th></th>\n",
       "      <th>Date</th>\n",
       "      <th>Sub Category ID</th>\n",
       "      <th>Plant ID</th>\n",
       "      <th>Vendor ID</th>\n",
       "      <th>Material ID</th>\n",
       "      <th>Defect Type ID</th>\n",
       "      <th>Material Type ID</th>\n",
       "      <th>Defect ID</th>\n",
       "      <th>Defect Qty</th>\n",
       "      <th>Downtime min</th>\n",
       "    </tr>\n",
       "  </thead>\n",
       "  <tbody>\n",
       "    <tr>\n",
       "      <th>0</th>\n",
       "      <td>2014-12-31</td>\n",
       "      <td>2</td>\n",
       "      <td>16</td>\n",
       "      <td>2</td>\n",
       "      <td>2126</td>\n",
       "      <td>3</td>\n",
       "      <td>4</td>\n",
       "      <td>27</td>\n",
       "      <td>0</td>\n",
       "      <td>60</td>\n",
       "    </tr>\n",
       "    <tr>\n",
       "      <th>1</th>\n",
       "      <td>2014-12-31</td>\n",
       "      <td>2</td>\n",
       "      <td>16</td>\n",
       "      <td>2</td>\n",
       "      <td>2126</td>\n",
       "      <td>3</td>\n",
       "      <td>4</td>\n",
       "      <td>27</td>\n",
       "      <td>0</td>\n",
       "      <td>60</td>\n",
       "    </tr>\n",
       "    <tr>\n",
       "      <th>2</th>\n",
       "      <td>2014-12-31</td>\n",
       "      <td>2</td>\n",
       "      <td>16</td>\n",
       "      <td>2</td>\n",
       "      <td>2137</td>\n",
       "      <td>3</td>\n",
       "      <td>6</td>\n",
       "      <td>281</td>\n",
       "      <td>1</td>\n",
       "      <td>60</td>\n",
       "    </tr>\n",
       "    <tr>\n",
       "      <th>3</th>\n",
       "      <td>2014-12-31</td>\n",
       "      <td>2</td>\n",
       "      <td>20</td>\n",
       "      <td>59</td>\n",
       "      <td>1439</td>\n",
       "      <td>3</td>\n",
       "      <td>8</td>\n",
       "      <td>295</td>\n",
       "      <td>9</td>\n",
       "      <td>10</td>\n",
       "    </tr>\n",
       "    <tr>\n",
       "      <th>4</th>\n",
       "      <td>2014-12-31</td>\n",
       "      <td>2</td>\n",
       "      <td>2</td>\n",
       "      <td>46</td>\n",
       "      <td>607</td>\n",
       "      <td>3</td>\n",
       "      <td>8</td>\n",
       "      <td>299</td>\n",
       "      <td>47</td>\n",
       "      <td>30</td>\n",
       "    </tr>\n",
       "  </tbody>\n",
       "</table>\n",
       "</div>"
      ],
      "text/plain": [
       "        Date  Sub Category ID  Plant ID  Vendor ID  Material ID  \\\n",
       "0 2014-12-31                2        16          2         2126   \n",
       "1 2014-12-31                2        16          2         2126   \n",
       "2 2014-12-31                2        16          2         2137   \n",
       "3 2014-12-31                2        20         59         1439   \n",
       "4 2014-12-31                2         2         46          607   \n",
       "\n",
       "   Defect Type ID  Material Type ID  Defect ID  Defect Qty  Downtime min  \n",
       "0               3                 4         27           0            60  \n",
       "1               3                 4         27           0            60  \n",
       "2               3                 6        281           1            60  \n",
       "3               3                 8        295           9            10  \n",
       "4               3                 8        299          47            30  "
      ]
     },
     "execution_count": 74,
     "metadata": {},
     "output_type": "execute_result"
    }
   ],
   "source": [
    "df_Defect_Report.head()"
   ]
  },
  {
   "cell_type": "code",
   "execution_count": 76,
   "id": "f4e89d8a-7655-4807-a003-8976859745a4",
   "metadata": {},
   "outputs": [
    {
     "data": {
      "text/plain": [
       "(6145, 10)"
      ]
     },
     "execution_count": 76,
     "metadata": {},
     "output_type": "execute_result"
    }
   ],
   "source": [
    "df_Defect_Report.shape"
   ]
  },
  {
   "cell_type": "code",
   "execution_count": 78,
   "id": "d53e2b8f-6974-47fb-8ed7-ebad3f60ec2b",
   "metadata": {},
   "outputs": [
    {
     "data": {
      "text/plain": [
       "193"
      ]
     },
     "execution_count": 78,
     "metadata": {},
     "output_type": "execute_result"
    }
   ],
   "source": [
    "df_Defect_Report.duplicated().sum()"
   ]
  },
  {
   "cell_type": "code",
   "execution_count": 80,
   "id": "cf033145-0bff-489b-bae3-abd60e94952b",
   "metadata": {},
   "outputs": [
    {
     "data": {
      "text/plain": [
       "Date                0\n",
       "Sub Category ID     0\n",
       "Plant ID            0\n",
       "Vendor ID           0\n",
       "Material ID         0\n",
       "Defect Type ID      0\n",
       "Material Type ID    0\n",
       "Defect ID           0\n",
       "Defect Qty          0\n",
       "Downtime min        0\n",
       "dtype: int64"
      ]
     },
     "execution_count": 80,
     "metadata": {},
     "output_type": "execute_result"
    }
   ],
   "source": [
    "df_Defect_Report.isnull().sum()"
   ]
  },
  {
   "cell_type": "code",
   "execution_count": 86,
   "id": "a163df34-857f-477e-a0e2-c6f5630d5a4c",
   "metadata": {},
   "outputs": [
    {
     "data": {
      "text/plain": [
       "Date                 601\n",
       "Sub Category ID        6\n",
       "Plant ID              24\n",
       "Vendor ID            320\n",
       "Material ID         2071\n",
       "Defect Type ID         3\n",
       "Material Type ID      22\n",
       "Defect ID            300\n",
       "Defect Qty          1259\n",
       "Downtime min         143\n",
       "dtype: int64"
      ]
     },
     "execution_count": 86,
     "metadata": {},
     "output_type": "execute_result"
    }
   ],
   "source": [
    "df_Defect_Report.nunique()"
   ]
  },
  {
   "cell_type": "code",
   "execution_count": 84,
   "id": "f816f511-f1ef-43fd-9805-6906f6b84aca",
   "metadata": {},
   "outputs": [
    {
     "data": {
      "text/plain": [
       "Date                datetime64[ns]\n",
       "Sub Category ID              int64\n",
       "Plant ID                     int64\n",
       "Vendor ID                    int64\n",
       "Material ID                  int64\n",
       "Defect Type ID               int64\n",
       "Material Type ID             int64\n",
       "Defect ID                    int64\n",
       "Defect Qty                   int64\n",
       "Downtime min                 int64\n",
       "dtype: object"
      ]
     },
     "execution_count": 84,
     "metadata": {},
     "output_type": "execute_result"
    }
   ],
   "source": [
    "df_Defect_Report.dtypes"
   ]
  },
  {
   "cell_type": "markdown",
   "id": "dad21f3b-b743-45e6-b98f-4aeab3144e13",
   "metadata": {},
   "source": [
    "##### 3.5.Plant(Dataset) 5th Sheet<a id='H'></a>"
   ]
  },
  {
   "cell_type": "code",
   "execution_count": 100,
   "id": "ab95c408-5a8b-4d30-a4f1-3ac932f8b71f",
   "metadata": {},
   "outputs": [
    {
     "data": {
      "text/html": [
       "<div>\n",
       "<style scoped>\n",
       "    .dataframe tbody tr th:only-of-type {\n",
       "        vertical-align: middle;\n",
       "    }\n",
       "\n",
       "    .dataframe tbody tr th {\n",
       "        vertical-align: top;\n",
       "    }\n",
       "\n",
       "    .dataframe thead th {\n",
       "        text-align: right;\n",
       "    }\n",
       "</style>\n",
       "<table border=\"1\" class=\"dataframe\">\n",
       "  <thead>\n",
       "    <tr style=\"text-align: right;\">\n",
       "      <th></th>\n",
       "      <th>Plant</th>\n",
       "      <th>Plant ID</th>\n",
       "    </tr>\n",
       "  </thead>\n",
       "  <tbody>\n",
       "    <tr>\n",
       "      <th>0</th>\n",
       "      <td>Grand Rapids, MI</td>\n",
       "      <td>1</td>\n",
       "    </tr>\n",
       "    <tr>\n",
       "      <th>1</th>\n",
       "      <td>Milwaukee, Wi</td>\n",
       "      <td>2</td>\n",
       "    </tr>\n",
       "    <tr>\n",
       "      <th>2</th>\n",
       "      <td>Springfield, IL</td>\n",
       "      <td>3</td>\n",
       "    </tr>\n",
       "    <tr>\n",
       "      <th>3</th>\n",
       "      <td>Chicago, IL</td>\n",
       "      <td>4</td>\n",
       "    </tr>\n",
       "    <tr>\n",
       "      <th>4</th>\n",
       "      <td>Indianapolis, IN</td>\n",
       "      <td>5</td>\n",
       "    </tr>\n",
       "  </tbody>\n",
       "</table>\n",
       "</div>"
      ],
      "text/plain": [
       "              Plant  Plant ID\n",
       "0  Grand Rapids, MI         1\n",
       "1     Milwaukee, Wi         2\n",
       "2   Springfield, IL         3\n",
       "3       Chicago, IL         4\n",
       "4  Indianapolis, IN         5"
      ]
     },
     "execution_count": 100,
     "metadata": {},
     "output_type": "execute_result"
    }
   ],
   "source": [
    "df_Plant.head()"
   ]
  },
  {
   "cell_type": "code",
   "execution_count": 102,
   "id": "dac37a41-f2b0-4737-b080-e12380e5f009",
   "metadata": {},
   "outputs": [
    {
     "data": {
      "text/plain": [
       "(24, 2)"
      ]
     },
     "execution_count": 102,
     "metadata": {},
     "output_type": "execute_result"
    }
   ],
   "source": [
    "df_Plant.shape"
   ]
  },
  {
   "cell_type": "code",
   "execution_count": 104,
   "id": "eae2b263-96ed-4d16-b392-933af8738acc",
   "metadata": {},
   "outputs": [
    {
     "data": {
      "text/plain": [
       "0"
      ]
     },
     "execution_count": 104,
     "metadata": {},
     "output_type": "execute_result"
    }
   ],
   "source": [
    "df_Plant.duplicated().sum()"
   ]
  },
  {
   "cell_type": "code",
   "execution_count": 106,
   "id": "90a17ef9-9b37-4373-88c6-0ba500c00389",
   "metadata": {},
   "outputs": [
    {
     "data": {
      "text/plain": [
       "Plant       0\n",
       "Plant ID    0\n",
       "dtype: int64"
      ]
     },
     "execution_count": 106,
     "metadata": {},
     "output_type": "execute_result"
    }
   ],
   "source": [
    "df_Plant.isnull().sum()"
   ]
  },
  {
   "cell_type": "code",
   "execution_count": 108,
   "id": "9b624a6b-4ec3-400f-833b-bc1b7eedc314",
   "metadata": {},
   "outputs": [
    {
     "data": {
      "text/plain": [
       "Plant       24\n",
       "Plant ID    24\n",
       "dtype: int64"
      ]
     },
     "execution_count": 108,
     "metadata": {},
     "output_type": "execute_result"
    }
   ],
   "source": [
    "df_Plant.nunique()"
   ]
  },
  {
   "cell_type": "code",
   "execution_count": 110,
   "id": "835d5abc-6eb7-456d-890e-f363e08f5e1a",
   "metadata": {},
   "outputs": [
    {
     "data": {
      "text/plain": [
       "Plant       object\n",
       "Plant ID     int64\n",
       "dtype: object"
      ]
     },
     "execution_count": 110,
     "metadata": {},
     "output_type": "execute_result"
    }
   ],
   "source": [
    "df_Plant.dtypes"
   ]
  },
  {
   "cell_type": "markdown",
   "id": "a220ec7d-161c-4bba-b3f8-ff2041507eb9",
   "metadata": {},
   "source": [
    "##### 3.6.Category(Dataset) 6th Sheet<a id='J'></a>"
   ]
  },
  {
   "cell_type": "code",
   "execution_count": 114,
   "id": "19a8c821-f934-4d15-811f-4a3e376dae80",
   "metadata": {},
   "outputs": [
    {
     "data": {
      "text/html": [
       "<div>\n",
       "<style scoped>\n",
       "    .dataframe tbody tr th:only-of-type {\n",
       "        vertical-align: middle;\n",
       "    }\n",
       "\n",
       "    .dataframe tbody tr th {\n",
       "        vertical-align: top;\n",
       "    }\n",
       "\n",
       "    .dataframe thead th {\n",
       "        text-align: right;\n",
       "    }\n",
       "</style>\n",
       "<table border=\"1\" class=\"dataframe\">\n",
       "  <thead>\n",
       "    <tr style=\"text-align: right;\">\n",
       "      <th></th>\n",
       "      <th>Sub Category</th>\n",
       "      <th>Sub Category ID</th>\n",
       "      <th>Category</th>\n",
       "    </tr>\n",
       "  </thead>\n",
       "  <tbody>\n",
       "    <tr>\n",
       "      <th>0</th>\n",
       "      <td>Electrical</td>\n",
       "      <td>1</td>\n",
       "      <td>Electrical</td>\n",
       "    </tr>\n",
       "    <tr>\n",
       "      <th>1</th>\n",
       "      <td>Logistics</td>\n",
       "      <td>2</td>\n",
       "      <td>Logistics</td>\n",
       "    </tr>\n",
       "    <tr>\n",
       "      <th>2</th>\n",
       "      <td>Materials &amp; Components</td>\n",
       "      <td>3</td>\n",
       "      <td>Materials &amp; Components</td>\n",
       "    </tr>\n",
       "    <tr>\n",
       "      <th>3</th>\n",
       "      <td>Mechanicals</td>\n",
       "      <td>4</td>\n",
       "      <td>Mechanicals</td>\n",
       "    </tr>\n",
       "    <tr>\n",
       "      <th>4</th>\n",
       "      <td>Packaging</td>\n",
       "      <td>5</td>\n",
       "      <td>Packaging</td>\n",
       "    </tr>\n",
       "  </tbody>\n",
       "</table>\n",
       "</div>"
      ],
      "text/plain": [
       "             Sub Category  Sub Category ID                Category\n",
       "0              Electrical                1              Electrical\n",
       "1               Logistics                2               Logistics\n",
       "2  Materials & Components                3  Materials & Components\n",
       "3             Mechanicals                4             Mechanicals\n",
       "4               Packaging                5               Packaging"
      ]
     },
     "execution_count": 114,
     "metadata": {},
     "output_type": "execute_result"
    }
   ],
   "source": [
    "df_Category.head()"
   ]
  },
  {
   "cell_type": "code",
   "execution_count": 116,
   "id": "cbe5468b-09c9-464d-8dfb-fa7919f8b847",
   "metadata": {},
   "outputs": [
    {
     "data": {
      "text/plain": [
       "(6, 3)"
      ]
     },
     "execution_count": 116,
     "metadata": {},
     "output_type": "execute_result"
    }
   ],
   "source": [
    "df_Category.shape"
   ]
  },
  {
   "cell_type": "code",
   "execution_count": 118,
   "id": "6a832b43-a8c1-4b61-b5ab-add4a86778f0",
   "metadata": {},
   "outputs": [
    {
     "data": {
      "text/plain": [
       "0"
      ]
     },
     "execution_count": 118,
     "metadata": {},
     "output_type": "execute_result"
    }
   ],
   "source": [
    "df_Category.duplicated().sum()"
   ]
  },
  {
   "cell_type": "code",
   "execution_count": 120,
   "id": "60819650-3554-4626-8d4f-7307b094cccb",
   "metadata": {},
   "outputs": [
    {
     "data": {
      "text/plain": [
       "Sub Category       0\n",
       "Sub Category ID    0\n",
       "Category           0\n",
       "dtype: int64"
      ]
     },
     "execution_count": 120,
     "metadata": {},
     "output_type": "execute_result"
    }
   ],
   "source": [
    "df_Category.isnull().sum()"
   ]
  },
  {
   "cell_type": "code",
   "execution_count": 122,
   "id": "0175c4d5-9291-4dc1-ae6b-083fbaf4df02",
   "metadata": {},
   "outputs": [
    {
     "data": {
      "text/plain": [
       "Sub Category       6\n",
       "Sub Category ID    6\n",
       "Category           6\n",
       "dtype: int64"
      ]
     },
     "execution_count": 122,
     "metadata": {},
     "output_type": "execute_result"
    }
   ],
   "source": [
    "df_Category.nunique()"
   ]
  },
  {
   "cell_type": "code",
   "execution_count": 124,
   "id": "975762c4-9c5d-4f94-bba5-622a407282a2",
   "metadata": {},
   "outputs": [
    {
     "data": {
      "text/plain": [
       "Sub Category       object\n",
       "Sub Category ID     int64\n",
       "Category           object\n",
       "dtype: object"
      ]
     },
     "execution_count": 124,
     "metadata": {},
     "output_type": "execute_result"
    }
   ],
   "source": [
    "df_Category.dtypes"
   ]
  },
  {
   "cell_type": "markdown",
   "id": "79ea5b75-eb3d-4a83-b347-3c6a9aeb956e",
   "metadata": {},
   "source": [
    "##### 3.7.Vendor(Dataset) 7th Sheet <a id='K'></a>"
   ]
  },
  {
   "cell_type": "code",
   "execution_count": 130,
   "id": "6de42a53-7d86-4608-8ae4-772b47933a8d",
   "metadata": {},
   "outputs": [
    {
     "data": {
      "text/html": [
       "<div>\n",
       "<style scoped>\n",
       "    .dataframe tbody tr th:only-of-type {\n",
       "        vertical-align: middle;\n",
       "    }\n",
       "\n",
       "    .dataframe tbody tr th {\n",
       "        vertical-align: top;\n",
       "    }\n",
       "\n",
       "    .dataframe thead th {\n",
       "        text-align: right;\n",
       "    }\n",
       "</style>\n",
       "<table border=\"1\" class=\"dataframe\">\n",
       "  <thead>\n",
       "    <tr style=\"text-align: right;\">\n",
       "      <th></th>\n",
       "      <th>Vendor</th>\n",
       "      <th>Vendor ID</th>\n",
       "    </tr>\n",
       "  </thead>\n",
       "  <tbody>\n",
       "    <tr>\n",
       "      <th>0</th>\n",
       "      <td>Reddoit</td>\n",
       "      <td>1</td>\n",
       "    </tr>\n",
       "    <tr>\n",
       "      <th>1</th>\n",
       "      <td>Plustax</td>\n",
       "      <td>2</td>\n",
       "    </tr>\n",
       "    <tr>\n",
       "      <th>2</th>\n",
       "      <td>bamity</td>\n",
       "      <td>3</td>\n",
       "    </tr>\n",
       "    <tr>\n",
       "      <th>3</th>\n",
       "      <td>Quotelane</td>\n",
       "      <td>4</td>\n",
       "    </tr>\n",
       "    <tr>\n",
       "      <th>4</th>\n",
       "      <td>Viatom</td>\n",
       "      <td>5</td>\n",
       "    </tr>\n",
       "  </tbody>\n",
       "</table>\n",
       "</div>"
      ],
      "text/plain": [
       "      Vendor  Vendor ID\n",
       "0    Reddoit          1\n",
       "1    Plustax          2\n",
       "2     bamity          3\n",
       "3  Quotelane          4\n",
       "4     Viatom          5"
      ]
     },
     "execution_count": 130,
     "metadata": {},
     "output_type": "execute_result"
    }
   ],
   "source": [
    "df_Vendor.head()"
   ]
  },
  {
   "cell_type": "code",
   "execution_count": 132,
   "id": "440c6a92-5da6-45cb-a5a1-373d85ab7a95",
   "metadata": {},
   "outputs": [
    {
     "data": {
      "text/plain": [
       "(328, 2)"
      ]
     },
     "execution_count": 132,
     "metadata": {},
     "output_type": "execute_result"
    }
   ],
   "source": [
    "df_Vendor.shape"
   ]
  },
  {
   "cell_type": "code",
   "execution_count": 134,
   "id": "462ba18d-dcc0-47cd-aa54-81136377d005",
   "metadata": {},
   "outputs": [
    {
     "data": {
      "text/plain": [
       "0"
      ]
     },
     "execution_count": 134,
     "metadata": {},
     "output_type": "execute_result"
    }
   ],
   "source": [
    "df_Vendor.duplicated().sum()"
   ]
  },
  {
   "cell_type": "code",
   "execution_count": 136,
   "id": "8e3e9cb7-03e5-4755-8df1-d05cc70725de",
   "metadata": {},
   "outputs": [
    {
     "data": {
      "text/plain": [
       "Vendor       0\n",
       "Vendor ID    0\n",
       "dtype: int64"
      ]
     },
     "execution_count": 136,
     "metadata": {},
     "output_type": "execute_result"
    }
   ],
   "source": [
    "df_Vendor.isnull().sum()"
   ]
  },
  {
   "cell_type": "code",
   "execution_count": 138,
   "id": "34a15021-3975-447d-a020-9ec2943d5c0e",
   "metadata": {},
   "outputs": [
    {
     "data": {
      "text/plain": [
       "Vendor       326\n",
       "Vendor ID    328\n",
       "dtype: int64"
      ]
     },
     "execution_count": 138,
     "metadata": {},
     "output_type": "execute_result"
    }
   ],
   "source": [
    "df_Vendor.nunique()"
   ]
  },
  {
   "cell_type": "code",
   "execution_count": 140,
   "id": "7c9585d2-0dc0-4acc-94f2-d8dec9bb0068",
   "metadata": {},
   "outputs": [
    {
     "data": {
      "text/plain": [
       "Vendor       object\n",
       "Vendor ID     int64\n",
       "dtype: object"
      ]
     },
     "execution_count": 140,
     "metadata": {},
     "output_type": "execute_result"
    }
   ],
   "source": [
    "df_Vendor.dtypes"
   ]
  },
  {
   "cell_type": "code",
   "execution_count": null,
   "id": "aba4b8ce-4629-481c-8472-94b5b69ca749",
   "metadata": {},
   "outputs": [],
   "source": []
  },
  {
   "cell_type": "code",
   "execution_count": null,
   "id": "0046b926-1931-4acb-8004-c1cd9f1c7c86",
   "metadata": {},
   "outputs": [],
   "source": []
  }
 ],
 "metadata": {
  "kernelspec": {
   "display_name": "Python [conda env:base] *",
   "language": "python",
   "name": "conda-base-py"
  },
  "language_info": {
   "codemirror_mode": {
    "name": "ipython",
    "version": 3
   },
   "file_extension": ".py",
   "mimetype": "text/x-python",
   "name": "python",
   "nbconvert_exporter": "python",
   "pygments_lexer": "ipython3",
   "version": "3.12.7"
  }
 },
 "nbformat": 4,
 "nbformat_minor": 5
}
